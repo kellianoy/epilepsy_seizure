{
 "cells": [
  {
   "attachments": {},
   "cell_type": "markdown",
   "metadata": {},
   "source": [
    "<center><h1>Epilepsy seizure challenge</h1></center>\n",
    "\n",
    "<center><h3>A data challenge on almost real-time classification of an epilepsy seizure phase</h3></center>\n",
    "<br/>\n",
    "<center><i>Thomas Bersani--Veroni (ENS, IPP), Kellian Cottart (ECE, IPP), Luc Gensbittel (EMSST, IPP), Titouan Lermite (ECE,IPP), Xavier Loison (EMSST, IPP), Mathys Noir (ECE, IPP) </i></center>"
   ]
  },
  {
   "attachments": {},
   "cell_type": "markdown",
   "metadata": {},
   "source": [
    "# 1. Introduction"
   ]
  },
  {
   "attachments": {},
   "cell_type": "markdown",
   "metadata": {},
   "source": [
    "Epilepsy\n",
    "---\n",
    "\n",
    "<p>Epilepsy is a chronic disease of the brain. The WHO<a name=\"cite_ref-1\"></a><sup>[1]</sup> estimates that it affects around 50 million people worldwide. It is characterized by recurrent seizures, which are brief episodes of involuntary movement that may involve a part of the body (partial) or the entire body (generalized). The estimated proportion of the general population with active epilepsy (i.e. continuing seizures or with the need for treatment) is between 4 and 10 per 1000 people.<br>\n",
    "\n",
    "* Seizure episodes are a result of **excessive electrical discharges** in a group of brain cells. \n",
    "* **Different parts of the brain** can be the site of such discharges. \n",
    "* Seizures can **vary in duration** from the briefest lapses of muscle jerks to severe and prolonged convulsions. \n",
    "* Seizures can also **vary in frequency**, from less than one per year to several per day.\n",
    "\n",
    "Characteristics of seizures vary and depend on where in the brain the disturbance first starts, and how far it spreads. Although many underlying disease mechanisms can lead to epilepsy, the cause of the disease is still unknown in about 50% of cases globally.\n",
    "\n",
    "Symptoms & Treatment\n",
    "---\n",
    "\n",
    "People with epilepsy tend to have more physical problems (such as fractures), as well as higher risks of psychological disorders, including anxiety and depression. The risk of premature death in people with epilepsy is up to three times higher than in the general population. A **great proportion of the causes of death related to epilepsy are potentially preventable**, such as falls, drowning, burns and prolonged seizures.\n",
    "\n",
    "Seizures can be controlled. Up to 70% of people living with epilepsy could become seizure free with appropriate use of antiseizure medicines. An **estimated 25% of epilepsy cases are potentially preventable**. Preventing head injury, for example by reducing falls, traffic accidents and sports injuries, is the most effective way to prevent post-traumatic epilepsy.</p>\n",
    "\n",
    "<a name=\"cite_note-1\"></a>1. : https://www.who.int/news-room/fact-sheets/detail/epilepsy"
   ]
  },
  {
   "cell_type": "markdown",
   "metadata": {},
   "source": []
  }
 ],
 "metadata": {
  "kernelspec": {
   "display_name": "Default",
   "language": "python",
   "name": "python3"
  },
  "language_info": {
   "name": "python",
   "version": "3.11.0"
  },
  "orig_nbformat": 4,
  "vscode": {
   "interpreter": {
    "hash": "2d812d56262f7fef5722dc03756ce3e87a2ee23a865e4fb85a78caf2f011be5e"
   }
  }
 },
 "nbformat": 4,
 "nbformat_minor": 2
}
