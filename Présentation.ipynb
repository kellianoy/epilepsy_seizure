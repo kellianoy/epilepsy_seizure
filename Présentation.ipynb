{
 "cells": [
  {
   "attachments": {},
   "cell_type": "markdown",
   "metadata": {},
   "source": [
    "<center><h1>Epilepsy seizure challenge</h1></center>\n",
    "\n",
    "<center><h3>A data challenge on almost real-time classification of an epilepsy seizure phase</h3></center>\n",
    "<br/>\n",
    "<center><i>Thomas Bersani--Veroni (ENS, IPP), Kellian Cottart (ECE, IPP), Luc Gensbittel (EMSST, IPP), Titouan Lermite (ECE,IPP), Xavier Loison (EMSST, IPP), Mathys Noir (ECE, IPP) </i></center>"
   ]
  },
  {
   "attachments": {},
   "cell_type": "markdown",
   "metadata": {},
   "source": [
    "# 1. Introduction to the Epilepsy problem"
   ]
  },
  {
   "attachments": {},
   "cell_type": "markdown",
   "metadata": {},
   "source": [
    "Credentials\n",
    "---\n",
    "\n",
    "This challenge is inspired from an article<a name=\"cite_ref-1\"></a><sup>[1]</sup> published in 2018 and proposing Integer Convolutional Neural Network to detect epileptic seizure. This article uses three different data sets collected from the Freiburg Hospital intracranial EEG data set<a name=\"cite_ref-2\"></a><sup>[2]</sup>, the Children’s Hospital of Boston-MIT scalp EEG data set<a name=\"cite_ref-3\"></a><sup>[3]</sup> and UPenn & Mayo Clinic’s seizure detection data set<a name=\"cite_ref-4\"></a><sup>[4]</sup> but this challenge only uses the **data set from the Children’s Hospital of Boston-MIT**.\n",
    "\n",
    "<a name=\"cite_ref-1\"></a><sup>[1]</sup> Truong et al., Convolutional neural networks for seizure prediction using intracranial and scalp electroencephalogram, Neural Networks, 2018, https://ieeexplore.ieee.org/stamp/stamp.jsp?tp=&arnumber=8370634&tag=1 </br>\n",
    "<a name=\"cite_ref-2\"></a><sup>[2]</sup> https://epilepsy.uni-freiburg.de/freiburg-seizure-prediction-project/eeg-database </br>\n",
    "<a name=\"cite_ref-3\"></a><sup>[3]</sup> https://physionet.org/content/chbmit/1.0.0/chb23/ </br>\n",
    "<a name=\"cite_ref-4\"></a><sup>[4]</sup> https://www.kaggle.com/c/seizure-detection </br>"
   ]
  },
  {
   "attachments": {},
   "cell_type": "markdown",
   "metadata": {},
   "source": [
    "Epilepsy\n",
    "---\n",
    "\n",
    "Epilepsy is a chronic disease of the brain. The WHO<a name=\"cite_ref-5\"></a><sup>[5]</sup> estimates that it affects around 50 million people worldwide. It is characterized by recurrent seizures, which are brief episodes of involuntary movement that may involve a part of the body (partial) or the entire body (generalized). The estimated proportion of the general population with active epilepsy (i.e. continuing seizures or with the need for treatment) is between 4 and 10 per 1000 people.\n",
    "\n",
    "* Seizure episodes are a result of **excessive electrical discharges** in a group of brain cells. \n",
    "* **Different parts of the brain** can be the site of such discharges. \n",
    "* Seizures can **vary in duration** from the briefest lapses of muscle jerks to severe and prolonged convulsions. \n",
    "* Seizures can also **vary in frequency**, from less than one per year to several per day.\n",
    "\n",
    "Characteristics of seizures vary and depend on where in the brain the disturbance first starts, and how far it spreads.\n",
    "\n",
    "Causes & Treatment\n",
    "---\n",
    "\n",
    "Although many underlying disease mechanisms can lead to epilepsy, the cause of the disease is still unknown in about 50% of cases globally. An estimated 25% of epilepsy cases are potentially preventable. Preventing head injury, for example by reducing falls, traffic accidents and sports injuries, is the most effective way to prevent post-traumatic epilepsy.\n",
    "\n",
    "People with epilepsy tend to have more physical problems (such as fractures), as well as higher risks of psychological disorders, including anxiety and depression. The risk of premature death in people with epilepsy is up to three times higher than in the general population. A **great proportion of the causes of death related to epilepsy are potentially preventable**, such as falls, drowning, burns and prolonged seizures.\n",
    "\n",
    "Seizures can be controlled. Most of people living with epilepsy could become seizure free with appropriate use of antiseizure medicines. Discontinuing antiseizure medicine can even be considered after 2 years without seizures. Surgery might be beneficial to patients who respond poorly to drug treatments.\n",
    "\n",
    "<a name=\"cite_ref-5\"></a><sup>[5]</sup> https://www.who.int/news-room/fact-sheets/detail/epilepsy"
   ]
  },
  {
   "attachments": {},
   "cell_type": "markdown",
   "metadata": {},
   "source": [
    "# 2. Challenge presentation"
   ]
  },
  {
   "attachments": {},
   "cell_type": "markdown",
   "metadata": {},
   "source": [
    "Classification rationale  \n",
    "---\n",
    "\n",
    "About two-thirds of people suffering from epilepsy can be treated with medication, and 7-8% can be cured with surgery. Unfortunately, the remaining patients suffer from refractory epilepsy, meaning that they are not able to control their seizures. Therefore, the **detection of seizures is critical for these patients, as it can help them to counter side effects from a seizure**.\n",
    "\n",
    "EEG (electroencephalogram) are signals used to detect seizures. These signals can be divided into two types: interictal, which are signals recorded between seizures, and ictal, which are signals recorded during seizures and can be used to detect abnormal seizures and notify the patient.\n",
    "\n",
    "According to the article cited at the beginning of the notebook, most of the methods relying on these data are based on ideas such as thresholding or basic machine learning models. However, these methods do not provide satisfactory results. Better results can be obtained by using time-frequency analysis, but these methods are costly in terms of computation and memory. One could use FFT (Fast Fourier Transform) to extract features from EEG, but as it is often used with SVM (Support Vector Machine), it is highly computationally expensive. Deep learning with CNN (Convolutional Neural Network) and RNN (Recurrent Neural Network) are promising alternatives."
   ]
  },
  {
   "attachments": {},
   "cell_type": "markdown",
   "metadata": {},
   "source": [
    "Classification challenge\n",
    "---\n",
    "\n",
    "This challenge consists in **classifying the EEG phase between interictal phase and ictal phase**.\n",
    "\n",
    "**Note about the prediction times:** \n",
    "**Note about the diffusion of the data:** Any communication from this challenge must be authorized by the owners of the Database before publication."
   ]
  },
  {
   "attachments": {},
   "cell_type": "markdown",
   "metadata": {},
   "source": [
    "Presenting the data\n",
    "---\n",
    "\n",
    "The data set has been retrieved from the *Children’s Hospital of Boston-MIT scalp EEG* data set. This resource has been made available through the following publication:\n",
    "Ali Shoeb. Application of Machine Learning to Epileptic Seizure Onset Detection and Treatment. PhD Thesis, Massachusetts Institute of Technology, September 2009.<a name=\"cite_ref-6\"></a><sup>[6]</sup>\n",
    "\n",
    "On this data set, the EEG of 22 patients (5 male and 17 female, from 1.5 to 19 years old) have been recorded :\n",
    "* for about 24 hours periods (stack of around one hour period),\n",
    "* in `edf` files, which correspond to a european standard for medical recording,\n",
    "* through around 23 channels, corresponding to the number of electrodes that have been placed on the children's skull.\n",
    "\n",
    "This data set is made of 664 files, with 198 seizures.\n",
    "The `RECORD` file list all the files while the `RECORDS-WITH-SEIZURES` file list those with an epilepsy seizure.\n",
    "\n",
    "<a name=\"cite_ref-6\"></a><sup>[6]</sup> https://dspace.mit.edu/handle/1721.1/54669"
   ]
  },
  {
   "cell_type": "code",
   "execution_count": null,
   "metadata": {},
   "outputs": [],
   "source": [
    "METTRE ICI UNE VISU SIMPLE D'UN CHANNEL D'UN FICHIER"
   ]
  },
  {
   "attachments": {},
   "cell_type": "markdown",
   "metadata": {},
   "source": [
    "Processing the data\n",
    "---\n",
    "\n",
    "Amongst the 22 patients, we have selected 16 patients for practical reasons that are exposed in the aformentioned article.\n",
    "\n",
    "Within all the channels available, we selected 17 channels as some channels are not suited for analysis while other are changing from one record to another one.\n",
    "These channels are the ones that are meaningful for the challenge, as highlighted in the article.\n",
    "\n",
    "In `SEIZURE_SUMMARY.CSV`, beginning and ending time of all seizure periods are listed.\n",
    "\n",
    "Following the same process depicted in the article, we removed from the record the four hours preceding and following a seizure period.\n",
    "During interictal phase (not a seizure period), the records have been sampled through 1s slots.\n",
    "During ictal phase, records have been sampled through the same time slots but with an overlapping (oversampling).\n"
   ]
  },
  {
   "attachments": {},
   "cell_type": "markdown",
   "metadata": {},
   "source": [
    "# 3. Starting with the challenge"
   ]
  },
  {
   "attachments": {},
   "cell_type": "markdown",
   "metadata": {},
   "source": [
    "Retrieving & displaying the data\n",
    "---"
   ]
  },
  {
   "attachments": {},
   "cell_type": "markdown",
   "metadata": {},
   "source": [
    "Presentation of download.py"
   ]
  },
  {
   "cell_type": "code",
   "execution_count": null,
   "metadata": {},
   "outputs": [],
   "source": []
  },
  {
   "attachments": {},
   "cell_type": "markdown",
   "metadata": {},
   "source": [
    "Presentation of get_train & get_test"
   ]
  },
  {
   "cell_type": "code",
   "execution_count": null,
   "metadata": {},
   "outputs": [],
   "source": []
  },
  {
   "attachments": {},
   "cell_type": "markdown",
   "metadata": {},
   "source": [
    "Displaying the data"
   ]
  },
  {
   "cell_type": "code",
   "execution_count": 1,
   "metadata": {},
   "outputs": [
    {
     "ename": "NameError",
     "evalue": "name 'plot' is not defined",
     "output_type": "error",
     "traceback": [
      "\u001b[0;31m---------------------------------------------------------------------------\u001b[0m",
      "\u001b[0;31mNameError\u001b[0m                                 Traceback (most recent call last)",
      "Cell \u001b[0;32mIn[1], line 1\u001b[0m\n\u001b[0;32m----> 1\u001b[0m plot\n",
      "\u001b[0;31mNameError\u001b[0m: name 'plot' is not defined"
     ]
    }
   ],
   "source": [
    "plot"
   ]
  },
  {
   "attachments": {},
   "cell_type": "markdown",
   "metadata": {},
   "source": [
    "Presentation of the score function\n",
    "---"
   ]
  },
  {
   "cell_type": "code",
   "execution_count": null,
   "metadata": {},
   "outputs": [],
   "source": []
  },
  {
   "attachments": {},
   "cell_type": "markdown",
   "metadata": {},
   "source": [
    "Starting with a dummy example\n",
    "---"
   ]
  },
  {
   "cell_type": "code",
   "execution_count": null,
   "metadata": {},
   "outputs": [],
   "source": []
  },
  {
   "attachments": {},
   "cell_type": "markdown",
   "metadata": {},
   "source": [
    "# 4. Making a submission"
   ]
  },
  {
   "attachments": {},
   "cell_type": "markdown",
   "metadata": {},
   "source": [
    "To do a submission, you need to submit it on [ramp.studio](https://ramp.studio/). \n",
    "\n",
    "Go to your sandbox and copy-paste your code.\n",
    "\n",
    "You can try your code with this command :\n",
    "    \n",
    "```bash\n",
    "ramp_test_submission --submission starting_kit # --quick-test\n",
    "```"
   ]
  }
 ],
 "metadata": {
  "kernelspec": {
   "display_name": "Default",
   "language": "python",
   "name": "python3"
  },
  "language_info": {
   "codemirror_mode": {
    "name": "ipython",
    "version": 3
   },
   "file_extension": ".py",
   "mimetype": "text/x-python",
   "name": "python",
   "nbconvert_exporter": "python",
   "pygments_lexer": "ipython3",
   "version": "3.11.0"
  },
  "orig_nbformat": 4,
  "vscode": {
   "interpreter": {
    "hash": "2d812d56262f7fef5722dc03756ce3e87a2ee23a865e4fb85a78caf2f011be5e"
   }
  }
 },
 "nbformat": 4,
 "nbformat_minor": 2
}
