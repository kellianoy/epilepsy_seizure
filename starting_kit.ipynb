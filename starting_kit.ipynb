{
 "cells": [
  {
   "attachments": {},
   "cell_type": "markdown",
   "metadata": {},
   "source": [
    "# Prediction of seizure using EEG data"
   ]
  },
  {
   "attachments": {},
   "cell_type": "markdown",
   "metadata": {},
   "source": [
    "# Chapeau - Credential"
   ]
  },
  {
   "attachments": {},
   "cell_type": "markdown",
   "metadata": {},
   "source": [
    "![Chapeau](images/chbmit.png)"
   ]
  },
  {
   "attachments": {},
   "cell_type": "markdown",
   "metadata": {},
   "source": [
    "# Presentation"
   ]
  },
  {
   "attachments": {},
   "cell_type": "markdown",
   "metadata": {},
   "source": [
    "## Context"
   ]
  },
  {
   "attachments": {},
   "cell_type": "markdown",
   "metadata": {},
   "source": [
    "## Challenge"
   ]
  },
  {
   "attachments": {},
   "cell_type": "markdown",
   "metadata": {},
   "source": [
    "# Data representation"
   ]
  },
  {
   "attachments": {},
   "cell_type": "markdown",
   "metadata": {},
   "source": [
    "## Origin\n",
    "\n",
    "Epileptic seizure, which is a transient occurrence of signs or symptoms due to abnormal, excessive, or synchronous neuronal activity in the brain, affects about 1% of the population. About two-thirds can be treated with medication, and 7-8% can be cured with surgery. Unfortunately, the remaining patients suffer from refractory epilepsy, meaning that they are not able to control their seizures. Therefore, the detection and subsequent treatment of seizures is critical for these patients.\n",
    "\n",
    "EEG (electroencephalogram) are signals used to detect seizures. These signals can be divided into two types: interictal, which are signals recorded between seizures, and ictal, which are signals recorded during seizures and can be used to detect abnormal seizures and notify the patient.\n",
    "\n",
    "Most of the methods relying on these data are based on simple ideas such as thresholding or basic machine learning models. However, these methods do not provide satisfactory results. Better results can be obtained by using time-frequency analysis, but these methods are more costly in terms of computation and memory. One could use FFT (Fast Fourier Transform) to extract features from EEG, but as it is often used with SVM (Support Vector Machine), it is highly computationally expensive. Deep learning with CNN (Convolutional Neural Network) and RNN (Recurrent Neural Network) are promising alternatives."
   ]
  },
  {
   "attachments": {},
   "cell_type": "markdown",
   "metadata": {},
   "source": [
    "## processing"
   ]
  },
  {
   "attachments": {},
   "cell_type": "markdown",
   "metadata": {},
   "source": [
    "## Data structure"
   ]
  },
  {
   "attachments": {},
   "cell_type": "markdown",
   "metadata": {},
   "source": [
    "# Data_use"
   ]
  },
  {
   "attachments": {},
   "cell_type": "markdown",
   "metadata": {},
   "source": [
    "## download"
   ]
  },
  {
   "attachments": {},
   "cell_type": "markdown",
   "metadata": {},
   "source": [
    "## get train/test "
   ]
  },
  {
   "attachments": {},
   "cell_type": "markdown",
   "metadata": {},
   "source": [
    "## affichage, metrics"
   ]
  },
  {
   "attachments": {},
   "cell_type": "markdown",
   "metadata": {},
   "source": [
    "## example"
   ]
  },
  {
   "attachments": {},
   "cell_type": "markdown",
   "metadata": {},
   "source": [
    "# Submission"
   ]
  },
  {
   "attachments": {},
   "cell_type": "markdown",
   "metadata": {},
   "source": [
    "To do a submission, you need to submit it on [ramp.studio](https://ramp.studio/). \n",
    "\n",
    "Go to your sandbox and copy-paste your code.\n",
    "\n",
    "You can try your code with this command :\n",
    "    \n",
    "```bash\n",
    "ramp_test_submission --submission starting_kit # --quick-test\n",
    "```"
   ]
  }
 ],
 "metadata": {
  "kernelspec": {
   "display_name": "Python 3",
   "language": "python",
   "name": "python3"
  },
  "language_info": {
   "name": "python",
   "version": "3.10.9"
  },
  "orig_nbformat": 4,
  "vscode": {
   "interpreter": {
    "hash": "92abc63731a500bda408dd4e31d62caf5a91bf61ff67890e278fa29409a0cc73"
   }
  }
 },
 "nbformat": 4,
 "nbformat_minor": 2
}
